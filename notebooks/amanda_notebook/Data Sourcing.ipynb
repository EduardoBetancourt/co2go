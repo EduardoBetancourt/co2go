{
 "cells": [
  {
   "cell_type": "markdown",
   "metadata": {},
   "source": [
    "# Data Sourcing \n",
    "\n",
    "* Get EOPatches From Different Locations using GeoJsons\n",
    "* Split Each EOPatch into 256 x 256 boxes and store them as x_train and y_train"
   ]
  },
  {
   "cell_type": "code",
   "execution_count": 1,
   "metadata": {},
   "outputs": [],
   "source": [
    "# import libraries and modules\n",
    "\n",
    "import os\n",
    "import datetime \n",
    "from os import path as op\n",
    "import itertools\n",
    "\n",
    "from eolearn.io import *\n",
    "from eolearn.core import EOTask, EOPatch, LinearWorkflow, FeatureType, SaveToDisk, OverwritePermission, SaveTask\n",
    "from sentinelhub import BBox, CRS, BBoxSplitter, MimeType, ServiceType, DataCollection\n",
    "\n",
    "from tqdm import tqdm_notebook as tqdm\n",
    "import matplotlib.pyplot as plt\n",
    "import numpy as np\n",
    "import geopandas\n",
    "\n",
    "from sklearn.metrics import confusion_matrix\n",
    "from keras.preprocessing.image import ImageDataGenerator\n",
    "from keras import backend as K\n",
    "from keras.models import *\n",
    "from keras.layers import *\n",
    "from keras.optimizers import *\n",
    "from keras.utils.np_utils import to_categorical\n",
    "K.clear_session()"
   ]
  },
  {
   "cell_type": "markdown",
   "metadata": {},
   "source": [
    "Select the time series from which you are going to extract your median picture, if you choose a low value you may get an error of a place without an image in that time. \n",
    "\n",
    "As well, here you define the `img_width` and `img_height` that will go inside x_train and y_train. A low value is okay to not give a huge picture to our model. "
   ]
  },
  {
   "cell_type": "code",
   "execution_count": 2,
   "metadata": {},
   "outputs": [],
   "source": [
    "# global image request parameters\n",
    "#time_interval = ('2017-01-01', '2017-12-31')\n",
    "time_interval = ('2017-01-01', '2017-12-31')\n",
    "img_width = 256\n",
    "img_height = 256\n",
    "maxcc = 0.2"
   ]
  },
  {
   "cell_type": "markdown",
   "metadata": {},
   "source": [
    "## Generate EOPatches for each geojson region"
   ]
  },
  {
   "cell_type": "code",
   "execution_count": 3,
   "metadata": {},
   "outputs": [],
   "source": [
    "places = ['eastern_france']\n",
    "placesDict = {place: {} for place in places} "
   ]
  },
  {
   "cell_type": "code",
   "execution_count": 5,
   "metadata": {},
   "outputs": [
    {
     "name": "stdout",
     "output_type": "stream",
     "text": [
      "The dimension of the eastern_france is 49971.145568380714 x 36527.54762531631 m2\n"
     ]
    }
   ],
   "source": [
    "# get the AOI and split into bboxes\n",
    "crs = CRS.UTM_31N\n",
    "\n",
    "for place in places:\n",
    "\n",
    "    path_file = f'../../raw_data/geojsons/{place}.geojson'\n",
    "\n",
    "    aoi = geopandas.read_file(path_file)\n",
    "    aoi = aoi.to_crs(crs=crs.pyproj_crs())\n",
    "    placesDict[place]['aoi'] = aoi\n",
    "\n",
    "    aoi_shape = aoi.geometry.values[-1]\n",
    "    placesDict[place]['aoi_shape'] = aoi_shape\n",
    "    \n",
    "\n",
    "    W = (aoi_shape.bounds[2] - aoi_shape.bounds[0])\n",
    "    H = (aoi_shape.bounds[3] - aoi_shape.bounds[1])\n",
    "    \n",
    "    placesDict[place]['W'] = W\n",
    "    placesDict[place]['H'] = H\n",
    "\n",
    "    print(f'The dimension of the {place} is {W} x {H} m2')"
   ]
  },
  {
   "cell_type": "code",
   "execution_count": 15,
   "metadata": {},
   "outputs": [
    {
     "name": "stdout",
     "output_type": "stream",
     "text": [
      "You will create a grid 3 * 2 = 6 boxes of size 1826 x 1666 for eastern_france\n"
     ]
    },
    {
     "name": "stderr",
     "output_type": "stream",
     "text": [
      "c:\\users\\amand\\.venvs\\lewagon\\lib\\site-packages\\ipykernel\\ipkernel.py:287: DeprecationWarning: `should_run_async` will not call `transform_cell` automatically in the future. Please pass the result to `transformed_cell` argument and any exception that happen during thetransform in `preprocessing_exc_tuple` in IPython 7.17 and above.\n",
      "  and should_run_async(code)\n"
     ]
    }
   ],
   "source": [
    "# Write here whatever height and width you want each individual place in pixels (these cannot be bigger than 2500)\n",
    "\n",
    "place = 'eastern_france'\n",
    "\n",
    "w = 1500\n",
    "h = 1500\n",
    "\n",
    "# \n",
    "placesDict[place]['x_boxes'] = round(placesDict[place]['W'] / (w*10))\n",
    "placesDict[place]['y_boxes'] = round(placesDict[place]['H'] / (h*10)) \n",
    "\n",
    "x_boxes = placesDict[place]['x_boxes']\n",
    "y_boxes = placesDict[place]['y_boxes']\n",
    "\n",
    "print(f\"You will create a grid {x_boxes} * {y_boxes} = {x_boxes*y_boxes} boxes of size {round(placesDict[place]['H']/(y_boxes*10))} x {round(placesDict[place]['W']/(x_boxes*10))} for {place}\")"
   ]
  },
  {
   "cell_type": "code",
   "execution_count": 17,
   "metadata": {},
   "outputs": [
    {
     "name": "stderr",
     "output_type": "stream",
     "text": [
      "c:\\users\\amand\\.venvs\\lewagon\\lib\\site-packages\\ipykernel\\ipkernel.py:287: DeprecationWarning: `should_run_async` will not call `transform_cell` automatically in the future. Please pass the result to `transformed_cell` argument and any exception that happen during thetransform in `preprocessing_exc_tuple` in IPython 7.17 and above.\n",
      "  and should_run_async(code)\n"
     ]
    }
   ],
   "source": [
    "# Split the AOI into bboxes\n",
    "for place in places:\n",
    "    aoi_shape = placesDict[place]['aoi_shape']\n",
    "    x_boxes = placesDict[place]['x_boxes']\n",
    "    y_boxes = placesDict[place]['y_boxes']\n",
    "    placesDict[place]['bbox_splitter'] = BBoxSplitter([aoi_shape], crs, (x_boxes, y_boxes))"
   ]
  },
  {
   "cell_type": "code",
   "execution_count": 18,
   "metadata": {},
   "outputs": [
    {
     "name": "stderr",
     "output_type": "stream",
     "text": [
      "c:\\users\\amand\\.venvs\\lewagon\\lib\\site-packages\\ipykernel\\ipkernel.py:287: DeprecationWarning: `should_run_async` will not call `transform_cell` automatically in the future. Please pass the result to `transformed_cell` argument and any exception that happen during thetransform in `preprocessing_exc_tuple` in IPython 7.17 and above.\n",
      "  and should_run_async(code)\n"
     ]
    }
   ],
   "source": [
    "# set raster_value conversions for our Geopedia task\n",
    "# see more about how to do this here:\n",
    "\n",
    "raster_value = {\n",
    "    '0%': (0, [0, 0, 0, 0]),\n",
    "    '10%': (1, [163, 235,  153, 255]),\n",
    "    '30%': (2, [119, 195,  118, 255]),\n",
    "    '50%': (3, [85, 160, 89, 255]),\n",
    "    '70%': (4, [58, 130, 64, 255]),\n",
    "    '90%': (5, [36, 103, 44, 255])\n",
    "}\n",
    "\n",
    "\n",
    "import matplotlib as mpl\n",
    "\n",
    "tree_cmap = mpl.colors.ListedColormap(['#F0F0F0', \n",
    "                                       '#A2EB9B', \n",
    "                                       '#77C277', \n",
    "                                       '#539F5B', \n",
    "                                       '#388141', \n",
    "                                       '#226528'])\n",
    "tree_cmap.set_over('white')\n",
    "tree_cmap.set_under('white')\n",
    "\n",
    "bounds = np.arange(-0.5, 6, 1).tolist()\n",
    "tree_norm = mpl.colors.BoundaryNorm(bounds, tree_cmap.N)"
   ]
  },
  {
   "cell_type": "code",
   "execution_count": 19,
   "metadata": {},
   "outputs": [
    {
     "name": "stderr",
     "output_type": "stream",
     "text": [
      "c:\\users\\amand\\.venvs\\lewagon\\lib\\site-packages\\ipykernel\\ipkernel.py:287: DeprecationWarning: `should_run_async` will not call `transform_cell` automatically in the future. Please pass the result to `transformed_cell` argument and any exception that happen during thetransform in `preprocessing_exc_tuple` in IPython 7.17 and above.\n",
      "  and should_run_async(code)\n"
     ]
    }
   ],
   "source": [
    "# create a task for calculating a median pixel value\n",
    "class MedianPixel(EOTask):\n",
    "    \"\"\"\n",
    "    The task returns a pixelwise median value from a time-series and stores the results in a \n",
    "    timeless data array.\n",
    "    \"\"\"\n",
    "    def __init__(self, feature, feature_out):\n",
    "        self.feature_type, self.feature_name = next(self._parse_features(feature)())\n",
    "        self.feature_type_out, self.feature_name_out = next(self._parse_features(feature_out)())\n",
    "\n",
    "    def execute(self, eopatch):\n",
    "        eopatch.add_feature(self.feature_type_out, self.feature_name_out, \n",
    "                            np.median(eopatch[self.feature_type][self.feature_name], axis=0))\n",
    "        return eopatch"
   ]
  },
  {
   "cell_type": "code",
   "execution_count": 20,
   "metadata": {},
   "outputs": [
    {
     "name": "stderr",
     "output_type": "stream",
     "text": [
      "c:\\users\\amand\\.venvs\\lewagon\\lib\\site-packages\\ipykernel\\ipkernel.py:287: DeprecationWarning: `should_run_async` will not call `transform_cell` automatically in the future. Please pass the result to `transformed_cell` argument and any exception that happen during thetransform in `preprocessing_exc_tuple` in IPython 7.17 and above.\n",
      "  and should_run_async(code)\n"
     ]
    }
   ],
   "source": [
    "# initialize tasks\n",
    "# task to get S2 L2A images\n",
    "\n",
    "input_task = SentinelHubInputTask(data_collection=DataCollection.SENTINEL2_L2A, \n",
    "                                     bands_feature=(FeatureType.DATA, 'BANDS'),\n",
    "                                     resolution=10, \n",
    "                                     maxcc=0.2, \n",
    "                                     bands=['B04', 'B03', 'B02'], \n",
    "                                     time_difference=datetime.timedelta(hours=2),\n",
    "                                     additional_data=[(FeatureType.MASK, 'dataMask', 'IS_DATA')]\n",
    "                                    )\n",
    "geopedia_data = AddGeopediaFeature((FeatureType.MASK_TIMELESS, 'TREE_COVER'), \n",
    "                                   layer='ttl2275', theme='QP', raster_value=raster_value)\n",
    "# task to compute median values\n",
    "get_median_pixel = MedianPixel((FeatureType.DATA, 'BANDS'), \n",
    "                               feature_out=(FeatureType.DATA_TIMELESS, 'MEDIAN_PIXEL'))\n",
    "# task to save to disk\n",
    "save = SaveTask(op.join('..', '..','raw_data', 'eopatch'), \n",
    "                  overwrite_permission=OverwritePermission.OVERWRITE_PATCH, \n",
    "                  compress_level=2)"
   ]
  },
  {
   "cell_type": "code",
   "execution_count": 21,
   "metadata": {},
   "outputs": [
    {
     "name": "stderr",
     "output_type": "stream",
     "text": [
      "c:\\users\\amand\\.venvs\\lewagon\\lib\\site-packages\\ipykernel\\ipkernel.py:287: DeprecationWarning: `should_run_async` will not call `transform_cell` automatically in the future. Please pass the result to `transformed_cell` argument and any exception that happen during thetransform in `preprocessing_exc_tuple` in IPython 7.17 and above.\n",
      "  and should_run_async(code)\n"
     ]
    }
   ],
   "source": [
    "# initialize workflow\n",
    "workflow = LinearWorkflow(input_task, geopedia_data, get_median_pixel, save)"
   ]
  },
  {
   "cell_type": "code",
   "execution_count": 22,
   "metadata": {},
   "outputs": [
    {
     "name": "stderr",
     "output_type": "stream",
     "text": [
      "c:\\users\\amand\\.venvs\\lewagon\\lib\\site-packages\\ipykernel\\ipkernel.py:287: DeprecationWarning: `should_run_async` will not call `transform_cell` automatically in the future. Please pass the result to `transformed_cell` argument and any exception that happen during thetransform in `preprocessing_exc_tuple` in IPython 7.17 and above.\n",
      "  and should_run_async(code)\n"
     ]
    }
   ],
   "source": [
    "# use a function to run this workflow on a single bbox\n",
    "def execute_workflow(index):\n",
    "    bbox = bbox_splitter.bbox_list[index]\n",
    "    info = bbox_splitter.info_list[index]\n",
    "    \n",
    "    patch_name = f\"{place}_eopatch_{index}_row-{info['index_x']}_col-{info['index_y']}\"\n",
    "    \n",
    "    results = workflow.execute({input_task:{'bbox':bbox, 'time_interval':time_interval},\n",
    "                                save:{'eopatch_folder':patch_name}\n",
    "                               })\n",
    "    return list(results.values())[-1]\n",
    "    del results "
   ]
  },
  {
   "cell_type": "code",
   "execution_count": 23,
   "metadata": {},
   "outputs": [
    {
     "name": "stderr",
     "output_type": "stream",
     "text": [
      "c:\\users\\amand\\.venvs\\lewagon\\lib\\site-packages\\ipykernel\\ipkernel.py:287: DeprecationWarning: `should_run_async` will not call `transform_cell` automatically in the future. Please pass the result to `transformed_cell` argument and any exception that happen during thetransform in `preprocessing_exc_tuple` in IPython 7.17 and above.\n",
      "  and should_run_async(code)\n",
      "c:\\users\\amand\\.venvs\\lewagon\\lib\\site-packages\\ipykernel_launcher.py:5: TqdmDeprecationWarning: This function will be removed in tqdm==5.0.0\n",
      "Please use `tqdm.notebook.tqdm` instead of `tqdm.tqdm_notebook`\n",
      "  \"\"\"\n"
     ]
    },
    {
     "data": {
      "application/vnd.jupyter.widget-view+json": {
       "model_id": "ce4c924b751948a6b48c49d2ebacc1fc",
       "version_major": 2,
       "version_minor": 0
      },
      "text/plain": [
       "HBox(children=(HTML(value=''), FloatProgress(value=0.0, max=6.0), HTML(value='')))"
      ]
     },
     "metadata": {},
     "output_type": "display_data"
    },
    {
     "name": "stdout",
     "output_type": "stream",
     "text": [
      "\n",
      "\n",
      "\n",
      "Wall time: 11min 25s\n"
     ]
    }
   ],
   "source": [
    "%%time\n",
    "\n",
    "# run over multiple bboxes and upload eopatch\n",
    "for place in places:\n",
    "    bbox_splitter = placesDict[place]['bbox_splitter']\n",
    "    subset_idx = len(bbox_splitter.bbox_list)\n",
    "    pbar = tqdm(total=subset_idx)\n",
    "    for idx in range(0, subset_idx):\n",
    "        patch = execute_workflow(idx)\n",
    "        pbar.update(1)"
   ]
  },
  {
   "cell_type": "code",
   "execution_count": 24,
   "metadata": {},
   "outputs": [
    {
     "name": "stderr",
     "output_type": "stream",
     "text": [
      "c:\\users\\amand\\.venvs\\lewagon\\lib\\site-packages\\ipykernel\\ipkernel.py:287: DeprecationWarning: `should_run_async` will not call `transform_cell` automatically in the future. Please pass the result to `transformed_cell` argument and any exception that happen during thetransform in `preprocessing_exc_tuple` in IPython 7.17 and above.\n",
      "  and should_run_async(code)\n"
     ]
    }
   ],
   "source": [
    "from math import floor\n",
    "\n",
    "def split_eopatch(patch, img_height=256, img_width=256):\n",
    "    x_train_raw = []\n",
    "    y_train_raw = []\n",
    "    \n",
    "    \n",
    "    mp = patch.data_timeless['MEDIAN_PIXEL']\n",
    "    tc = patch.mask_timeless['TREE_COVER']\n",
    "    \n",
    "    patch_height = mp.shape[0]\n",
    "    patch_width = mp.shape[1]\n",
    "    \n",
    "    mini_patch_rows = floor(patch_height/img_height)\n",
    "    mini_patch_columns = floor(patch_width/img_width)\n",
    "\n",
    "    for i in range(mini_patch_rows):\n",
    "        for j in range(mini_patch_columns):\n",
    "            x = mp[ i*img_height:(i*img_height)+img_height , j*img_width:(j*img_width)+img_width, :]\n",
    "            y = tc[ i*img_height:(i*img_height)+img_height , j*img_width:(j*img_width)+img_width, :]\n",
    "            if i == 0:\n",
    "                pass\n",
    "            elif i == (mini_patch_rows - 1):\n",
    "                pass \n",
    "            else:\n",
    "                x_train_raw.append(x)\n",
    "                y_train_raw.append(y)\n",
    "\n",
    "    x_train_raw = np.array(x_train_raw)\n",
    "    y_train_raw = np.array(y_train_raw)\n",
    "    \n",
    "    return x_train_raw, y_train_raw"
   ]
  },
  {
   "cell_type": "code",
   "execution_count": 25,
   "metadata": {},
   "outputs": [
    {
     "name": "stdout",
     "output_type": "stream",
     "text": [
      "6\n"
     ]
    },
    {
     "name": "stderr",
     "output_type": "stream",
     "text": [
      "c:\\users\\amand\\.venvs\\lewagon\\lib\\site-packages\\ipykernel\\ipkernel.py:287: DeprecationWarning: `should_run_async` will not call `transform_cell` automatically in the future. Please pass the result to `transformed_cell` argument and any exception that happen during thetransform in `preprocessing_exc_tuple` in IPython 7.17 and above.\n",
      "  and should_run_async(code)\n"
     ]
    }
   ],
   "source": [
    "import os\n",
    "files = os.listdir('../../raw_data/eopatch/')\n",
    "files = [file for file in files if 'eopatch' in file]\n",
    "print(len(files))"
   ]
  },
  {
   "cell_type": "code",
   "execution_count": 26,
   "metadata": {},
   "outputs": [
    {
     "name": "stderr",
     "output_type": "stream",
     "text": [
      "c:\\users\\amand\\.venvs\\lewagon\\lib\\site-packages\\ipykernel\\ipkernel.py:287: DeprecationWarning: `should_run_async` will not call `transform_cell` automatically in the future. Please pass the result to `transformed_cell` argument and any exception that happen during thetransform in `preprocessing_exc_tuple` in IPython 7.17 and above.\n",
      "  and should_run_async(code)\n"
     ]
    },
    {
     "name": "stdout",
     "output_type": "stream",
     "text": [
      "30 images\n",
      "60 images\n",
      "90 images\n",
      "120 images\n",
      "150 images\n",
      "180 images\n"
     ]
    },
    {
     "data": {
      "text/plain": [
       "((180, 256, 256, 3), (180, 256, 256, 1))"
      ]
     },
     "execution_count": 26,
     "metadata": {},
     "output_type": "execute_result"
    }
   ],
   "source": [
    "# Iterate over all eopatches, split them into 256x256 boxes, add them into one big array\n",
    "import os\n",
    "\n",
    "files = os.listdir('../../raw_data/eopatch/')\n",
    "files = [file for file in files if 'eopatch' in file]\n",
    "\n",
    "for index, file in enumerate(files):\n",
    "    patch = EOPatch.load(f'../../raw_data/eopatch/{file}')\n",
    "    x, y = split_eopatch(patch)\n",
    "    \n",
    "    if index == 0:\n",
    "        x_train_raw = x\n",
    "        y_train_raw = y\n",
    "    else: \n",
    "        x_train_raw = np.concatenate((x_train_raw, x))\n",
    "        y_train_raw = np.concatenate((y_train_raw, y))\n",
    "\n",
    "    print(f'{x_train_raw.shape[0]} images' )\n",
    "        \n",
    "x_train_raw.shape, y_train_raw.shape"
   ]
  },
  {
   "cell_type": "code",
   "execution_count": 27,
   "metadata": {},
   "outputs": [
    {
     "name": "stderr",
     "output_type": "stream",
     "text": [
      "c:\\users\\amand\\.venvs\\lewagon\\lib\\site-packages\\ipykernel\\ipkernel.py:287: DeprecationWarning: `should_run_async` will not call `transform_cell` automatically in the future. Please pass the result to `transformed_cell` argument and any exception that happen during thetransform in `preprocessing_exc_tuple` in IPython 7.17 and above.\n",
      "  and should_run_async(code)\n"
     ]
    },
    {
     "data": {
      "text/plain": [
       "<matplotlib.colorbar.Colorbar at 0x1fb11754688>"
      ]
     },
     "execution_count": 27,
     "metadata": {},
     "output_type": "execute_result"
    },
    {
     "data": {
      "image/png": "[encoded data removed]",
      "text/plain": [
       "<Figure size 360x360 with 2 Axes>"
      ]
     },
     "metadata": {
      "needs_background": "light"
     },
     "output_type": "display_data"
    }
   ],
   "source": [
    "id = 40\n",
    "\n",
    "plt.figure(figsize=(5,5))\n",
    "plt.imshow(2.5*x_train_raw[id])\n",
    "plt.imshow(y_train_raw[id], vmin=0, vmax=5, alpha=.5, cmap=tree_cmap)\n",
    "plt.colorbar()"
   ]
  },
  {
   "cell_type": "code",
   "execution_count": 28,
   "metadata": {},
   "outputs": [
    {
     "name": "stderr",
     "output_type": "stream",
     "text": [
      "c:\\users\\amand\\.venvs\\lewagon\\lib\\site-packages\\ipykernel\\ipkernel.py:287: DeprecationWarning: `should_run_async` will not call `transform_cell` automatically in the future. Please pass the result to `transformed_cell` argument and any exception that happen during thetransform in `preprocessing_exc_tuple` in IPython 7.17 and above.\n",
      "  and should_run_async(code)\n"
     ]
    },
    {
     "data": {
      "text/plain": [
       "(180, 256, 256, 3)"
      ]
     },
     "execution_count": 28,
     "metadata": {},
     "output_type": "execute_result"
    }
   ],
   "source": [
    "x_train_raw.shape"
   ]
  },
  {
   "cell_type": "code",
   "execution_count": 29,
   "metadata": {},
   "outputs": [
    {
     "name": "stderr",
     "output_type": "stream",
     "text": [
      "c:\\users\\amand\\.venvs\\lewagon\\lib\\site-packages\\ipykernel\\ipkernel.py:287: DeprecationWarning: `should_run_async` will not call `transform_cell` automatically in the future. Please pass the result to `transformed_cell` argument and any exception that happen during thetransform in `preprocessing_exc_tuple` in IPython 7.17 and above.\n",
      "  and should_run_async(code)\n"
     ]
    },
    {
     "data": {
      "text/plain": [
       "(180, 256, 256, 1)"
      ]
     },
     "execution_count": 29,
     "metadata": {},
     "output_type": "execute_result"
    }
   ],
   "source": [
    "y_train_raw.shape"
   ]
  },
  {
   "cell_type": "code",
   "execution_count": 30,
   "metadata": {},
   "outputs": [
    {
     "name": "stderr",
     "output_type": "stream",
     "text": [
      "c:\\users\\amand\\.venvs\\lewagon\\lib\\site-packages\\ipykernel\\ipkernel.py:287: DeprecationWarning: `should_run_async` will not call `transform_cell` automatically in the future. Please pass the result to `transformed_cell` argument and any exception that happen during thetransform in `preprocessing_exc_tuple` in IPython 7.17 and above.\n",
      "  and should_run_async(code)\n"
     ]
    },
    {
     "data": {
      "text/plain": [
       "array([0, 1, 2, 3, 4, 5], dtype=uint8)"
      ]
     },
     "execution_count": 30,
     "metadata": {},
     "output_type": "execute_result"
    }
   ],
   "source": [
    "np.unique(y_train_raw[0])"
   ]
  },
  {
   "cell_type": "code",
   "execution_count": null,
   "metadata": {},
   "outputs": [],
   "source": []
  }
 ],
 "metadata": {
  "kernelspec": {
   "display_name": "Python 3",
   "language": "python",
   "name": "python3"
  },
  "language_info": {
   "codemirror_mode": {
    "name": "ipython",
    "version": 3
   },
   "file_extension": ".py",
   "mimetype": "text/x-python",
   "name": "python",
   "nbconvert_exporter": "python",
   "pygments_lexer": "ipython3",
   "version": "3.7.7"
  },
  "toc": {
   "base_numbering": 1,
   "nav_menu": {},
   "number_sections": true,
   "sideBar": true,
   "skip_h1_title": false,
   "title_cell": "Table of Contents",
   "title_sidebar": "Contents",
   "toc_cell": false,
   "toc_position": {},
   "toc_section_display": true,
   "toc_window_display": false
  },
  "varInspector": {
   "cols": {
    "lenName": 16,
    "lenType": 16,
    "lenVar": 40
   },
   "kernels_config": {
    "python": {
     "delete_cmd_postfix": "",
     "delete_cmd_prefix": "del ",
     "library": "var_list.py",
     "varRefreshCmd": "print(var_dic_list())"
    },
    "r": {
     "delete_cmd_postfix": ") ",
     "delete_cmd_prefix": "rm(",
     "library": "var_list.r",
     "varRefreshCmd": "cat(var_dic_list()) "
    }
   },
   "types_to_exclude": [
    "module",
    "function",
    "builtin_function_or_method",
    "instance",
    "_Feature"
   ],
   "window_display": false
  }
 },
 "nbformat": 4,
 "nbformat_minor": 4
}
