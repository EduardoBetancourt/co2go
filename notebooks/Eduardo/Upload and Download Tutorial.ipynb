{
 "cells": [
  {
   "cell_type": "markdown",
   "metadata": {},
   "source": [
    "# Tutorial on Uploading and Downloading Arrays Instead of EO Patches\n",
    "\n",
    "We will see how to do the following things:\n",
    "\n",
    "1. How to split an EO Patch into smaller fragments\n",
    "2. Save the smaller images into our local memory\n",
    "3. Retrieve those images from our local memort"
   ]
  },
  {
   "cell_type": "code",
   "execution_count": 57,
   "metadata": {},
   "outputs": [],
   "source": [
    "from eolearn.core import EOPatch\n",
    "import numpy as np\n",
    "from math import floor\n",
    "import matplotlib.pyplot as plt\n",
    "import matplotlib as mpl\n",
    "import os"
   ]
  },
  {
   "cell_type": "markdown",
   "metadata": {},
   "source": [
    "## Split an EO Patch into smaller fragments"
   ]
  },
  {
   "cell_type": "code",
   "execution_count": 58,
   "metadata": {},
   "outputs": [
    {
     "name": "stdout",
     "output_type": "stream",
     "text": [
      "36\n"
     ]
    }
   ],
   "source": [
    "# Write the deired AOI (area of interest)\n",
    "aoi = \"slovenia\"\n",
    "\n",
    "# Retrieve all the folders of our AOI\n",
    "files = os.listdir('../../raw_data/eopatch/')\n",
    "files = [file for file in files if f\"{aoi}_eopatch\" in file]\n",
    "\n",
    "# How many EO Pathces are we retrieving\n",
    "print(len(files))"
   ]
  },
  {
   "cell_type": "code",
   "execution_count": 59,
   "metadata": {},
   "outputs": [],
   "source": [
    "def split_eopatch(patch, img_height=256, img_width=256):\n",
    "    '''\n",
    "    This function splits and EOPatch image into smaller \n",
    "    images of costume height and width. \n",
    "    It returns an ndarrays for x_train and y_train\n",
    "    '''\n",
    "    # Initialize empty lists to store results\n",
    "    x_train_raw = []\n",
    "    y_train_raw = []\n",
    "    \n",
    "    # Apply masks to picutre\n",
    "    mp = patch.data_timeless['MEDIAN_PIXEL']\n",
    "    tc = patch.mask_timeless['TREE_COVER']\n",
    "    \n",
    "    # Set patch height and width\n",
    "    patch_height = mp.shape[0]\n",
    "    patch_width = mp.shape[1]\n",
    "    \n",
    "    # Define into how many rows and columns the image will be divided into \n",
    "    mini_patch_rows = floor(patch_height/img_height)\n",
    "    mini_patch_columns = floor(patch_width/img_width)\n",
    "\n",
    "    # Split EOPatches and append to list\n",
    "    for i in range(mini_patch_rows):\n",
    "        for j in range(mini_patch_columns):\n",
    "            x = mp[ i*img_height:(i*img_height)+img_height , j*img_width:(j*img_width)+img_width, :]\n",
    "            y = tc[ i*img_height:(i*img_height)+img_height , j*img_width:(j*img_width)+img_width, :]\n",
    "            if i == 0:\n",
    "                pass\n",
    "            elif i == (mini_patch_rows - 1):\n",
    "                pass \n",
    "            else:\n",
    "                x_train_raw.append(x)\n",
    "                y_train_raw.append(y)\n",
    "\n",
    "    # Convert list to np array\n",
    "    x_train_raw = np.array(x_train_raw)\n",
    "    y_train_raw = np.array(y_train_raw)\n",
    "    \n",
    "    # Returns ndarrays\n",
    "    return x_train_raw, y_train_raw"
   ]
  },
  {
   "cell_type": "markdown",
   "metadata": {},
   "source": [
    "### Convert EO Patches to ndarray"
   ]
  },
  {
   "cell_type": "code",
   "execution_count": 60,
   "metadata": {},
   "outputs": [
    {
     "name": "stdout",
     "output_type": "stream",
     "text": [
      "42 images\n",
      "84 images\n",
      "126 images\n",
      "168 images\n",
      "210 images\n",
      "252 images\n",
      "294 images\n",
      "336 images\n",
      "378 images\n",
      "420 images\n",
      "462 images\n",
      "504 images\n",
      "546 images\n",
      "588 images\n",
      "630 images\n",
      "672 images\n",
      "714 images\n",
      "756 images\n",
      "798 images\n",
      "840 images\n",
      "882 images\n",
      "924 images\n",
      "966 images\n",
      "1008 images\n",
      "1050 images\n",
      "1092 images\n",
      "1134 images\n",
      "1176 images\n",
      "1218 images\n",
      "1260 images\n",
      "1302 images\n",
      "1344 images\n",
      "1386 images\n",
      "1428 images\n",
      "1470 images\n",
      "1512 images\n"
     ]
    },
    {
     "data": {
      "text/plain": [
       "((1512, 256, 256, 3), (1512, 256, 256, 1))"
      ]
     },
     "execution_count": 60,
     "metadata": {},
     "output_type": "execute_result"
    }
   ],
   "source": [
    "# Iterate over aoi eopatches, split them and add them into one big array\n",
    "for index, file in enumerate(files):\n",
    "    patch = EOPatch.load(f'../../raw_data/eopatch/{file}')\n",
    "    x, y = split_eopatch(patch)\n",
    "    \n",
    "    if index == 0:\n",
    "        x_train_raw = x\n",
    "        y_train_raw = y\n",
    "    else: \n",
    "        x_train_raw = np.concatenate((x_train_raw, x))\n",
    "        y_train_raw = np.concatenate((y_train_raw, y))\n",
    "\n",
    "    print(f'{x_train_raw.shape[0]} images' )\n",
    "        \n",
    "x_train_raw.shape, y_train_raw.shape"
   ]
  },
  {
   "cell_type": "markdown",
   "metadata": {},
   "source": [
    "## Upload ndarray with all images to an AOI folder\n",
    "\n",
    "- A folder of the aoi will be created under raw_data/raw_images/{aoi} if it doesn´t exist\n",
    "- Under each aoi folder new subfolder will be created named based on their index numbers\n",
    "- Inside each index number subfolder the ndarray will be saved as a .npy file"
   ]
  },
  {
   "cell_type": "code",
   "execution_count": 63,
   "metadata": {},
   "outputs": [],
   "source": [
    "def upload_training_data(x_train, y_train, aoi):\n",
    "    '''\n",
    "    This takes an x_train y_train ndarrays and an AOI as a string.\n",
    "    It will save the x_train and y_train inside a folder called under the AOI.\n",
    "    '''\n",
    "    # Create folder for AOI\n",
    "    if not os.path.isdir(f\"../../raw_data/raw_images/{aoi}\"):\n",
    "        os.makedirs(f\"../../raw_data/raw_images/{aoi}\")\n",
    "        \n",
    "\n",
    "    # Create subfolders and save images inside each as x_train_raw_{id}.jpg and y_train_raw_{id}\n",
    "    for idx, (x, y) in enumerate(zip(x_train, y_train)):\n",
    "        path = f\"../../raw_data/raw_images/{aoi}/{idx}\"\n",
    "\n",
    "        # Make new subfolder\n",
    "        os.makedirs(path)\n",
    "\n",
    "        # Saving x_train and y_train inside subfolder\n",
    "        np.save(path + f\"/x_train_{idx}\", x)\n",
    "        np.save(path + f\"/y_train_{idx}\", y)\n",
    "\n",
    "    print(\"Saved images\")"
   ]
  },
  {
   "cell_type": "code",
   "execution_count": 62,
   "metadata": {},
   "outputs": [
    {
     "name": "stdout",
     "output_type": "stream",
     "text": [
      "Saved images\n"
     ]
    }
   ],
   "source": [
    "upload_training_data(x_train_raw, y_train_raw, aoi)"
   ]
  },
  {
   "cell_type": "markdown",
   "metadata": {},
   "source": [
    "## Retrieve the saved data from storage"
   ]
  },
  {
   "cell_type": "code",
   "execution_count": 65,
   "metadata": {},
   "outputs": [],
   "source": [
    "def download_training_data(aoi):\n",
    "    '''\n",
    "    This function reads through all of the content inside your AOI folder\n",
    "    and returns an ndarray for x_train and an ndarray for y_train\n",
    "    '''\n",
    "    # Read all subfolders inside aoi folder\n",
    "    path = f\"../../raw_data/raw_images/{aoi}\"\n",
    "    files = os.listdir(path)\n",
    "\n",
    "    # Convert to strs to int and sort by ascending order\n",
    "    files = list(map(int, files))\n",
    "    files.sort()\n",
    "\n",
    "\n",
    "    # Initialize lists\n",
    "    x_train = []\n",
    "    y_train = []\n",
    "\n",
    "    # Iterate over each of the subfolders inside\n",
    "    for file in files:\n",
    "\n",
    "        # Load x_train_{id}.npy and y_train_id.npy\n",
    "        x = np.load(path + f\"/{file}/x_train_{file}.npy\")\n",
    "        y = np.load(path + f\"/{file}/y_train_{file}.npy\")\n",
    "\n",
    "        # Append to an ndarray \n",
    "        x_train.append(x)\n",
    "        y_train.append(y)\n",
    "\n",
    "\n",
    "    # Return as x_train and y_train\n",
    "    x_train = np.array(x_train)\n",
    "    y_train = np.array(y_train)\n",
    "    \n",
    "    return x_train, y_train"
   ]
  },
  {
   "cell_type": "code",
   "execution_count": 67,
   "metadata": {},
   "outputs": [
    {
     "data": {
      "text/plain": [
       "((1512, 256, 256, 3), (1512, 256, 256, 1))"
      ]
     },
     "execution_count": 67,
     "metadata": {},
     "output_type": "execute_result"
    }
   ],
   "source": [
    "# Assign download function to x_train and y_train \n",
    "x_train, y_train = download_training_data(aoi)\n",
    "\n",
    "# The shape should be the same as wehn we convert EO Patches to ndarray\n",
    "x_train.shape, y_train.shape"
   ]
  },
  {
   "cell_type": "markdown",
   "metadata": {},
   "source": [
    "### Plot any pair of images to verify we downloaded correctly"
   ]
  },
  {
   "cell_type": "code",
   "execution_count": 69,
   "metadata": {},
   "outputs": [
    {
     "data": {
      "text/plain": [
       "<matplotlib.colorbar.Colorbar at 0x11d4f1610>"
      ]
     },
     "execution_count": 69,
     "metadata": {},
     "output_type": "execute_result"
    },
    {
     "data": {
      "image/png": "[encoded data removed]",
      "text/plain": [
       "<Figure size 360x360 with 2 Axes>"
      ]
     },
     "metadata": {
      "needs_background": "light"
     },
     "output_type": "display_data"
    }
   ],
   "source": [
    "# Select index of pair of images\n",
    "id = 900\n",
    "\n",
    "# Define color map for y_train\n",
    "tree_cmap = mpl.colors.ListedColormap(['#F0F0F0', \n",
    "                                       '#A2EB9B', \n",
    "                                       '#77C277', \n",
    "                                       '#539F5B', \n",
    "                                       '#388141', \n",
    "                                       '#226528'])\n",
    "\n",
    "\n",
    "# Plot x_train and y_train together\n",
    "plt.figure(figsize=(5,5))\n",
    "plt.imshow(2.5*x_train[id])\n",
    "plt.imshow(y_train[id], vmin=0, vmax=5, alpha=.5, cmap=tree_cmap)\n",
    "plt.colorbar()"
   ]
  }
 ],
 "metadata": {
  "kernelspec": {
   "display_name": "Python 3",
   "language": "python",
   "name": "python3"
  },
  "language_info": {
   "codemirror_mode": {
    "name": "ipython",
    "version": 3
   },
   "file_extension": ".py",
   "mimetype": "text/x-python",
   "name": "python",
   "nbconvert_exporter": "python",
   "pygments_lexer": "ipython3",
   "version": "3.7.7"
  },
  "toc": {
   "base_numbering": 1,
   "nav_menu": {},
   "number_sections": true,
   "sideBar": true,
   "skip_h1_title": false,
   "title_cell": "Table of Contents",
   "title_sidebar": "Contents",
   "toc_cell": false,
   "toc_position": {},
   "toc_section_display": true,
   "toc_window_display": false
  }
 },
 "nbformat": 4,
 "nbformat_minor": 4
}
